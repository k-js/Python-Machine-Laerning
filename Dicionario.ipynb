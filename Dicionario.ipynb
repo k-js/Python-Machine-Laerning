{
  "nbformat": 4,
  "nbformat_minor": 0,
  "metadata": {
    "colab": {
      "name": "Dicionario.ipynb",
      "provenance": [],
      "authorship_tag": "ABX9TyMrbt4761R/0cGvA9DRVHeQ",
      "include_colab_link": true
    },
    "kernelspec": {
      "name": "python3",
      "display_name": "Python 3"
    },
    "language_info": {
      "name": "python"
    }
  },
  "cells": [
    {
      "cell_type": "markdown",
      "metadata": {
        "id": "view-in-github",
        "colab_type": "text"
      },
      "source": [
        "<a href=\"https://colab.research.google.com/github/k-js/Python-Machine-Laerning/blob/main/Dicionario.ipynb\" target=\"_parent\"><img src=\"https://colab.research.google.com/assets/colab-badge.svg\" alt=\"Open In Colab\"/></a>"
      ]
    },
    {
      "cell_type": "code",
      "metadata": {
        "id": "WmOePD0ihh-t"
      },
      "source": [
        "dicionario = {'Curso' : 'Python para ML',\n",
        "              'Produtor' : 'Didática Tech',\n",
        "              'Preço' : 'Gratuito',\n",
        "              'Nota' : '-'}"
      ],
      "execution_count": 6,
      "outputs": []
    },
    {
      "cell_type": "code",
      "metadata": {
        "colab": {
          "base_uri": "https://localhost:8080/",
          "height": 35
        },
        "id": "SByEySP0p1Ac",
        "outputId": "161451b6-a060-4538-fd57-273569c4d5c7"
      },
      "source": [
        "dicionario['Nota']"
      ],
      "execution_count": 7,
      "outputs": [
        {
          "output_type": "execute_result",
          "data": {
            "application/vnd.google.colaboratory.intrinsic+json": {
              "type": "string"
            },
            "text/plain": [
              "'-'"
            ]
          },
          "metadata": {},
          "execution_count": 7
        }
      ]
    },
    {
      "cell_type": "code",
      "metadata": {
        "id": "a92KgIypp0r5"
      },
      "source": [
        "a = dicionario['Preço']"
      ],
      "execution_count": 30,
      "outputs": []
    },
    {
      "cell_type": "code",
      "metadata": {
        "colab": {
          "base_uri": "https://localhost:8080/"
        },
        "id": "akZQuWBep0oY",
        "outputId": "b238a050-543f-47f2-8fb1-09b2e323a2b5"
      },
      "source": [
        "print(a)"
      ],
      "execution_count": 31,
      "outputs": [
        {
          "output_type": "stream",
          "name": "stdout",
          "text": [
            "Gratuito\n"
          ]
        }
      ]
    },
    {
      "cell_type": "code",
      "metadata": {
        "id": "E3850jp_p0jz"
      },
      "source": [
        "dicionario['Preço'] = 'Gratuito'"
      ],
      "execution_count": 23,
      "outputs": []
    },
    {
      "cell_type": "code",
      "metadata": {
        "colab": {
          "base_uri": "https://localhost:8080/"
        },
        "id": "6sH-grF4p0gc",
        "outputId": "d38fd96a-ffae-4c36-90cb-d7baa2ad27ab"
      },
      "source": [
        "print(dicionario)"
      ],
      "execution_count": 24,
      "outputs": [
        {
          "output_type": "stream",
          "name": "stdout",
          "text": [
            "{'Curso': 'Python para ML', 'Produtor': 'Didática Tech', 'Preço': 'Gratuito', 'Nota': '-'}\n"
          ]
        }
      ]
    },
    {
      "cell_type": "code",
      "metadata": {
        "id": "Hol1sxtOp0du"
      },
      "source": [
        "dicionario['Pré-requisito'] = 'Python básico'"
      ],
      "execution_count": 32,
      "outputs": []
    },
    {
      "cell_type": "code",
      "metadata": {
        "colab": {
          "base_uri": "https://localhost:8080/"
        },
        "id": "9Crbqpcvp0aO",
        "outputId": "830d340a-e7b8-435b-ae3d-b34ce69def42"
      },
      "source": [
        "print(dicionario)"
      ],
      "execution_count": 33,
      "outputs": [
        {
          "output_type": "stream",
          "name": "stdout",
          "text": [
            "{'Curso': 'Python para ML', 'Produtor': 'Didática Tech', 'Preço': 'Gratuito', 'Nota': '-', 'Pré-requisito': 'Python básico'}\n"
          ]
        }
      ]
    },
    {
      "cell_type": "code",
      "metadata": {
        "colab": {
          "base_uri": "https://localhost:8080/"
        },
        "id": "bTbjJjQsp0Xa",
        "outputId": "448de6ad-d5f6-47cf-9427-bde26416a957"
      },
      "source": [
        "#dicionario.keys() \n",
        "#     chaves\n",
        "dicionario.values() \n",
        "# dicionario.itens()\n",
        "# dicionario.clear()"
      ],
      "execution_count": 39,
      "outputs": [
        {
          "output_type": "execute_result",
          "data": {
            "text/plain": [
              "dict_values(['Python para ML', 'Didática Tech', 'Gratuito', '-', 'Python básico'])"
            ]
          },
          "metadata": {},
          "execution_count": 39
        }
      ]
    },
    {
      "cell_type": "code",
      "metadata": {
        "id": "_BaoOscOp0T-"
      },
      "source": [
        ""
      ],
      "execution_count": null,
      "outputs": []
    },
    {
      "cell_type": "code",
      "metadata": {
        "id": "BuIZqIHJp0Q8"
      },
      "source": [
        ""
      ],
      "execution_count": null,
      "outputs": []
    },
    {
      "cell_type": "code",
      "metadata": {
        "id": "wO3LqQoYp0Lm"
      },
      "source": [
        ""
      ],
      "execution_count": null,
      "outputs": []
    }
  ]
}