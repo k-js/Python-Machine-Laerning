{
  "nbformat": 4,
  "nbformat_minor": 0,
  "metadata": {
    "colab": {
      "name": "Cópia de O que sao Tuplas .ipynb",
      "provenance": [],
      "authorship_tag": "ABX9TyPniUsawovr4RASEHPr/DhO",
      "include_colab_link": true
    },
    "kernelspec": {
      "name": "python3",
      "display_name": "Python 3"
    },
    "language_info": {
      "name": "python"
    }
  },
  "cells": [
    {
      "cell_type": "markdown",
      "metadata": {
        "id": "view-in-github",
        "colab_type": "text"
      },
      "source": [
        "<a href=\"https://colab.research.google.com/github/k-js/Python-Machine-Laerning/blob/main/C%C3%B3pia_de_O_que_sao_Tuplas_.ipynb\" target=\"_parent\"><img src=\"https://colab.research.google.com/assets/colab-badge.svg\" alt=\"Open In Colab\"/></a>"
      ]
    },
    {
      "cell_type": "code",
      "metadata": {
        "id": "C-LPXE6MjrTD"
      },
      "source": [
        "#lista que não pode ser alterada "
      ],
      "execution_count": 2,
      "outputs": []
    },
    {
      "cell_type": "code",
      "metadata": {
        "id": "f_HKvJzYkL5w"
      },
      "source": [
        "lista = [1,2,3,4]"
      ],
      "execution_count": 3,
      "outputs": []
    },
    {
      "cell_type": "code",
      "metadata": {
        "id": "L7cVXSF0kL9d"
      },
      "source": [
        "lista[0] = 20"
      ],
      "execution_count": 4,
      "outputs": []
    },
    {
      "cell_type": "code",
      "metadata": {
        "colab": {
          "base_uri": "https://localhost:8080/"
        },
        "id": "DCD3lEjOkMAt",
        "outputId": "68c29e0b-d300-40f1-d520-dd986c14c42b"
      },
      "source": [
        "print(lista)"
      ],
      "execution_count": 5,
      "outputs": [
        {
          "output_type": "stream",
          "name": "stdout",
          "text": [
            "[20, 2, 3, 4]\n"
          ]
        }
      ]
    },
    {
      "cell_type": "code",
      "metadata": {
        "id": "PdW-jZlfmWCj"
      },
      "source": [
        ""
      ],
      "execution_count": 5,
      "outputs": []
    },
    {
      "cell_type": "code",
      "metadata": {
        "colab": {
          "base_uri": "https://localhost:8080/"
        },
        "id": "ej2eGIWBkMEV",
        "outputId": "1ff45c86-2b10-4ae6-c0db-fd445c8ca1a2"
      },
      "source": [
        "tupla = (6,8,4)\n",
        "tupla[0]"
      ],
      "execution_count": 6,
      "outputs": [
        {
          "output_type": "execute_result",
          "data": {
            "text/plain": [
              "6"
            ]
          },
          "metadata": {},
          "execution_count": 6
        }
      ]
    },
    {
      "cell_type": "code",
      "metadata": {
        "id": "1soju602kqPX"
      },
      "source": [
        "del lista[0]"
      ],
      "execution_count": 7,
      "outputs": []
    },
    {
      "cell_type": "code",
      "metadata": {
        "colab": {
          "base_uri": "https://localhost:8080/"
        },
        "id": "WpLmh6_BkqRs",
        "outputId": "7a9e32ae-4995-4e3e-977a-be4ad3b650c2"
      },
      "source": [
        "print(lista)"
      ],
      "execution_count": 8,
      "outputs": [
        {
          "output_type": "stream",
          "name": "stdout",
          "text": [
            "[2, 3, 4]\n"
          ]
        }
      ]
    },
    {
      "cell_type": "code",
      "metadata": {
        "id": "2kLpEzZYkqUS"
      },
      "source": [
        "novaTupla = tuple(lista)"
      ],
      "execution_count": 9,
      "outputs": []
    },
    {
      "cell_type": "code",
      "metadata": {
        "colab": {
          "base_uri": "https://localhost:8080/"
        },
        "id": "vmIzUyD9kqW_",
        "outputId": "3d9d1962-35f6-4362-cc02-0b494cf2e334"
      },
      "source": [
        "print(novaTupla)"
      ],
      "execution_count": 10,
      "outputs": [
        {
          "output_type": "stream",
          "name": "stdout",
          "text": [
            "(2, 3, 4)\n"
          ]
        }
      ]
    },
    {
      "cell_type": "code",
      "metadata": {
        "colab": {
          "base_uri": "https://localhost:8080/"
        },
        "id": "n0Ql4mjJkqZu",
        "outputId": "ade1cc67-2ca3-4095-aa02-88a9d9457a1e"
      },
      "source": [
        "type(novaTupla)"
      ],
      "execution_count": 11,
      "outputs": [
        {
          "output_type": "execute_result",
          "data": {
            "text/plain": [
              "tuple"
            ]
          },
          "metadata": {},
          "execution_count": 11
        }
      ]
    },
    {
      "cell_type": "code",
      "metadata": {
        "id": "V6Nreqkfkqpv"
      },
      "source": [
        "num = (3,)"
      ],
      "execution_count": 12,
      "outputs": []
    },
    {
      "cell_type": "code",
      "metadata": {
        "colab": {
          "base_uri": "https://localhost:8080/"
        },
        "id": "W2zzb_PtkqtG",
        "outputId": "38e62f74-046d-48c5-b53a-c4476f6fb36b"
      },
      "source": [
        "type(num)"
      ],
      "execution_count": 13,
      "outputs": [
        {
          "output_type": "execute_result",
          "data": {
            "text/plain": [
              "tuple"
            ]
          },
          "metadata": {},
          "execution_count": 13
        }
      ]
    },
    {
      "cell_type": "code",
      "metadata": {
        "colab": {
          "base_uri": "https://localhost:8080/"
        },
        "id": "Jv2H6_mGmbRO",
        "outputId": "25342563-f3d5-408c-879f-ffff4db60040"
      },
      "source": [
        "print(lista)"
      ],
      "execution_count": 15,
      "outputs": [
        {
          "output_type": "stream",
          "name": "stdout",
          "text": [
            "[2, 3, 4]\n"
          ]
        }
      ]
    },
    {
      "cell_type": "code",
      "metadata": {
        "id": "lPfvOcMsma-s"
      },
      "source": [
        "lista = (1)"
      ],
      "execution_count": 16,
      "outputs": []
    },
    {
      "cell_type": "code",
      "metadata": {
        "colab": {
          "base_uri": "https://localhost:8080/"
        },
        "id": "5onDluo6mxAQ",
        "outputId": "51e11304-2df5-422f-d4d2-34ef38439159"
      },
      "source": [
        "print(lista)"
      ],
      "execution_count": 17,
      "outputs": [
        {
          "output_type": "stream",
          "name": "stdout",
          "text": [
            "1\n"
          ]
        }
      ]
    }
  ]
}