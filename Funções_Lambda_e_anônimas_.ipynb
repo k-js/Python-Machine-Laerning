{
  "nbformat": 4,
  "nbformat_minor": 0,
  "metadata": {
    "colab": {
      "name": "Funções Lambda e anônimas .ipynb",
      "provenance": [],
      "authorship_tag": "ABX9TyPM25HqTAnerwIio/XK2Si5",
      "include_colab_link": true
    },
    "kernelspec": {
      "name": "python3",
      "display_name": "Python 3"
    },
    "language_info": {
      "name": "python"
    }
  },
  "cells": [
    {
      "cell_type": "markdown",
      "metadata": {
        "id": "view-in-github",
        "colab_type": "text"
      },
      "source": [
        "<a href=\"https://colab.research.google.com/github/k-js/Python-Machine-Laerning/blob/main/Fun%C3%A7%C3%B5es_Lambda_e_an%C3%B4nimas_.ipynb\" target=\"_parent\"><img src=\"https://colab.research.google.com/assets/colab-badge.svg\" alt=\"Open In Colab\"/></a>"
      ]
    },
    {
      "cell_type": "code",
      "metadata": {
        "id": "bziqk8U2l02I"
      },
      "source": [
        "def somaQuadrados(a,b):\n",
        "  somaQ = a**2 + b**2\n",
        "  return somaQ\n"
      ],
      "execution_count": 1,
      "outputs": []
    },
    {
      "cell_type": "code",
      "metadata": {
        "colab": {
          "base_uri": "https://localhost:8080/"
        },
        "id": "K2Dw0edMnGYd",
        "outputId": "9eb694ae-205b-4e20-d338-b57040268a89"
      },
      "source": [
        "somaQuadrados(2,3)"
      ],
      "execution_count": 2,
      "outputs": [
        {
          "output_type": "execute_result",
          "data": {
            "text/plain": [
              "13"
            ]
          },
          "metadata": {},
          "execution_count": 2
        }
      ]
    },
    {
      "cell_type": "code",
      "metadata": {
        "id": "c4FAYQTTnKvs"
      },
      "source": [
        "somaQuadrados2 = lambda a, b: a**2 + b**2"
      ],
      "execution_count": 8,
      "outputs": []
    },
    {
      "cell_type": "code",
      "metadata": {
        "colab": {
          "base_uri": "https://localhost:8080/"
        },
        "id": "WmkOJuFlnKeY",
        "outputId": "dff26f41-30f6-433c-d7a3-17fa4ce33750"
      },
      "source": [
        "somaQuadrados2(2,3)"
      ],
      "execution_count": 9,
      "outputs": [
        {
          "output_type": "execute_result",
          "data": {
            "text/plain": [
              "13"
            ]
          },
          "metadata": {},
          "execution_count": 9
        }
      ]
    },
    {
      "cell_type": "code",
      "metadata": {
        "id": "0YqCjBaynKa2"
      },
      "source": [
        "x = lambda f:f/2"
      ],
      "execution_count": 10,
      "outputs": []
    },
    {
      "cell_type": "code",
      "metadata": {
        "colab": {
          "base_uri": "https://localhost:8080/"
        },
        "id": "DkFB7xVWnpfp",
        "outputId": "357a1f60-24b2-4041-971f-f347be6d568a"
      },
      "source": [
        "x(10)"
      ],
      "execution_count": 11,
      "outputs": [
        {
          "output_type": "execute_result",
          "data": {
            "text/plain": [
              "5.0"
            ]
          },
          "metadata": {},
          "execution_count": 11
        }
      ]
    }
  ]
}