{
  "nbformat": 4,
  "nbformat_minor": 0,
  "metadata": {
    "colab": {
      "name": "Manipulando strings.ipynb",
      "provenance": [],
      "authorship_tag": "ABX9TyP8N3i98DepPrzC3KZqzVHL",
      "include_colab_link": true
    },
    "kernelspec": {
      "name": "python3",
      "display_name": "Python 3"
    },
    "language_info": {
      "name": "python"
    }
  },
  "cells": [
    {
      "cell_type": "markdown",
      "metadata": {
        "id": "view-in-github",
        "colab_type": "text"
      },
      "source": [
        "<a href=\"https://colab.research.google.com/github/k-js/Python-Machine-Laerning/blob/main/Manipulando_strings.ipynb\" target=\"_parent\"><img src=\"https://colab.research.google.com/assets/colab-badge.svg\" alt=\"Open In Colab\"/></a>"
      ]
    },
    {
      "cell_type": "code",
      "metadata": {
        "id": "ltBqjCwciqbS"
      },
      "source": [
        "frase = 'Estou gostando do curso'"
      ],
      "execution_count": 1,
      "outputs": []
    },
    {
      "cell_type": "code",
      "metadata": {
        "colab": {
          "base_uri": "https://localhost:8080/",
          "height": 35
        },
        "id": "ho-1pvp5jnJG",
        "outputId": "07c7a9f7-4704-4e69-939e-1f0dc7783ab1"
      },
      "source": [
        "frase[5:]  # imprime da posiçao 5 ate o final"
      ],
      "execution_count": 2,
      "outputs": [
        {
          "output_type": "execute_result",
          "data": {
            "application/vnd.google.colaboratory.intrinsic+json": {
              "type": "string"
            },
            "text/plain": [
              "' gostando do curso'"
            ]
          },
          "metadata": {},
          "execution_count": 2
        }
      ]
    },
    {
      "cell_type": "code",
      "metadata": {
        "colab": {
          "base_uri": "https://localhost:8080/",
          "height": 35
        },
        "id": "49guMXfxjnCi",
        "outputId": "351b8aea-6913-4523-b262-436eaf5e30ce"
      },
      "source": [
        "frase[3:7] #impreme da posiçao 3 ate 7"
      ],
      "execution_count": 3,
      "outputs": [
        {
          "output_type": "execute_result",
          "data": {
            "application/vnd.google.colaboratory.intrinsic+json": {
              "type": "string"
            },
            "text/plain": [
              "'ou g'"
            ]
          },
          "metadata": {},
          "execution_count": 3
        }
      ]
    },
    {
      "cell_type": "code",
      "metadata": {
        "colab": {
          "base_uri": "https://localhost:8080/",
          "height": 35
        },
        "id": "FRKQFx9Ujm_r",
        "outputId": "43922565-47ae-4a6d-9598-b8d49fbf4a8c"
      },
      "source": [
        "frase[2:13:3] #imprime pulando de 2 em 2 "
      ],
      "execution_count": 5,
      "outputs": [
        {
          "output_type": "execute_result",
          "data": {
            "application/vnd.google.colaboratory.intrinsic+json": {
              "type": "string"
            },
            "text/plain": [
              "'t sn'"
            ]
          },
          "metadata": {},
          "execution_count": 5
        }
      ]
    },
    {
      "cell_type": "code",
      "metadata": {
        "colab": {
          "base_uri": "https://localhost:8080/"
        },
        "id": "Icwbu-Vijm8Z",
        "outputId": "57fb6499-15b9-416f-f5fb-1d24c2344d50"
      },
      "source": [
        "frase.count('t') # conta quantas letra T  "
      ],
      "execution_count": 6,
      "outputs": [
        {
          "output_type": "execute_result",
          "data": {
            "text/plain": [
              "2"
            ]
          },
          "metadata": {},
          "execution_count": 6
        }
      ]
    },
    {
      "cell_type": "code",
      "metadata": {
        "colab": {
          "base_uri": "https://localhost:8080/"
        },
        "id": "jnUDYJBIjm5n",
        "outputId": "284fa0b2-9c43-40d2-9205-8180fe5017fd"
      },
      "source": [
        "frase.count(' ') # conta quantos espaços vazios "
      ],
      "execution_count": 7,
      "outputs": [
        {
          "output_type": "execute_result",
          "data": {
            "text/plain": [
              "3"
            ]
          },
          "metadata": {},
          "execution_count": 7
        }
      ]
    },
    {
      "cell_type": "code",
      "metadata": {
        "colab": {
          "base_uri": "https://localhost:8080/"
        },
        "id": "8_tU8Pxcjm2f",
        "outputId": "b411381f-bc8d-4e2d-a35f-82cf82db583f"
      },
      "source": [
        "len(frase) # conta o numero de letras com espaço "
      ],
      "execution_count": 8,
      "outputs": [
        {
          "output_type": "execute_result",
          "data": {
            "text/plain": [
              "23"
            ]
          },
          "metadata": {},
          "execution_count": 8
        }
      ]
    },
    {
      "cell_type": "code",
      "metadata": {
        "colab": {
          "base_uri": "https://localhost:8080/",
          "height": 35
        },
        "id": "ZpRZfjtdjmwH",
        "outputId": "0a915f28-1835-4e12-f70d-dd53caf90c77"
      },
      "source": [
        "frase.replace('curso','aprendizado') #substituir"
      ],
      "execution_count": 9,
      "outputs": [
        {
          "output_type": "execute_result",
          "data": {
            "application/vnd.google.colaboratory.intrinsic+json": {
              "type": "string"
            },
            "text/plain": [
              "'Estou gostando do aprendizado'"
            ]
          },
          "metadata": {},
          "execution_count": 9
        }
      ]
    }
  ]
}