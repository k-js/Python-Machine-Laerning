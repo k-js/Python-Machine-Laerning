{
  "nbformat": 4,
  "nbformat_minor": 0,
  "metadata": {
    "colab": {
      "name": "O que sao Tuplas .ipynb",
      "provenance": [],
      "authorship_tag": "ABX9TyO2cWP8uym+pv0D7vws1p4h",
      "include_colab_link": true
    },
    "kernelspec": {
      "name": "python3",
      "display_name": "Python 3"
    },
    "language_info": {
      "name": "python"
    }
  },
  "cells": [
    {
      "cell_type": "markdown",
      "metadata": {
        "id": "view-in-github",
        "colab_type": "text"
      },
      "source": [
        "<a href=\"https://colab.research.google.com/github/k-js/Python-Machine-Laerning/blob/main/O_que_sao_Tuplas_.ipynb\" target=\"_parent\"><img src=\"https://colab.research.google.com/assets/colab-badge.svg\" alt=\"Open In Colab\"/></a>"
      ]
    },
    {
      "cell_type": "code",
      "metadata": {
        "id": "C-LPXE6MjrTD"
      },
      "source": [
        "#lista que não pode ser alterada "
      ],
      "execution_count": 4,
      "outputs": []
    },
    {
      "cell_type": "code",
      "metadata": {
        "id": "f_HKvJzYkL5w"
      },
      "source": [
        "lista = [1,2,3,4]"
      ],
      "execution_count": 14,
      "outputs": []
    },
    {
      "cell_type": "code",
      "metadata": {
        "id": "L7cVXSF0kL9d"
      },
      "source": [
        "lista[0] = 20"
      ],
      "execution_count": 16,
      "outputs": []
    },
    {
      "cell_type": "code",
      "metadata": {
        "colab": {
          "base_uri": "https://localhost:8080/"
        },
        "id": "DCD3lEjOkMAt",
        "outputId": "f61ba38e-71b5-4033-90ba-61eafcb9764c"
      },
      "source": [
        "print(lista)"
      ],
      "execution_count": 17,
      "outputs": [
        {
          "output_type": "stream",
          "name": "stdout",
          "text": [
            "[20, 2, 3, 4]\n"
          ]
        }
      ]
    },
    {
      "cell_type": "code",
      "metadata": {
        "colab": {
          "base_uri": "https://localhost:8080/"
        },
        "id": "ej2eGIWBkMEV",
        "outputId": "283a1a5e-d7b1-4512-85c7-427d6d37ac31"
      },
      "source": [
        "tupla = (6,8,4)\n",
        "tupla[0]"
      ],
      "execution_count": 6,
      "outputs": [
        {
          "output_type": "execute_result",
          "data": {
            "text/plain": [
              "6"
            ]
          },
          "metadata": {},
          "execution_count": 6
        }
      ]
    },
    {
      "cell_type": "code",
      "metadata": {
        "id": "1soju602kqPX"
      },
      "source": [
        "del lista[0]"
      ],
      "execution_count": 18,
      "outputs": []
    },
    {
      "cell_type": "code",
      "metadata": {
        "colab": {
          "base_uri": "https://localhost:8080/"
        },
        "id": "WpLmh6_BkqRs",
        "outputId": "a587a694-0ca1-4886-b25a-0eac460806fd"
      },
      "source": [
        "print(lista)"
      ],
      "execution_count": 19,
      "outputs": [
        {
          "output_type": "stream",
          "name": "stdout",
          "text": [
            "[2, 3, 4]\n"
          ]
        }
      ]
    },
    {
      "cell_type": "code",
      "metadata": {
        "id": "2kLpEzZYkqUS"
      },
      "source": [
        "novaTupla = tuple(lista)"
      ],
      "execution_count": 20,
      "outputs": []
    },
    {
      "cell_type": "code",
      "metadata": {
        "colab": {
          "base_uri": "https://localhost:8080/"
        },
        "id": "vmIzUyD9kqW_",
        "outputId": "dee2b976-3405-493d-b575-3a416836514c"
      },
      "source": [
        "print(novaTupla)"
      ],
      "execution_count": 21,
      "outputs": [
        {
          "output_type": "stream",
          "name": "stdout",
          "text": [
            "(2, 3, 4)\n"
          ]
        }
      ]
    },
    {
      "cell_type": "code",
      "metadata": {
        "colab": {
          "base_uri": "https://localhost:8080/"
        },
        "id": "n0Ql4mjJkqZu",
        "outputId": "196ddfa1-d3aa-463f-89f3-605d6a9842ae"
      },
      "source": [
        "type(novaTupla)"
      ],
      "execution_count": 23,
      "outputs": [
        {
          "output_type": "execute_result",
          "data": {
            "text/plain": [
              "tuple"
            ]
          },
          "metadata": {},
          "execution_count": 23
        }
      ]
    },
    {
      "cell_type": "code",
      "metadata": {
        "id": "V6Nreqkfkqpv"
      },
      "source": [
        "num = (3,)"
      ],
      "execution_count": 26,
      "outputs": []
    },
    {
      "cell_type": "code",
      "metadata": {
        "colab": {
          "base_uri": "https://localhost:8080/"
        },
        "id": "W2zzb_PtkqtG",
        "outputId": "2efe2444-62be-4764-bc2c-fbc34eec4a17"
      },
      "source": [
        "type(num)"
      ],
      "execution_count": 27,
      "outputs": [
        {
          "output_type": "execute_result",
          "data": {
            "text/plain": [
              "tuple"
            ]
          },
          "metadata": {},
          "execution_count": 27
        }
      ]
    }
  ]
}